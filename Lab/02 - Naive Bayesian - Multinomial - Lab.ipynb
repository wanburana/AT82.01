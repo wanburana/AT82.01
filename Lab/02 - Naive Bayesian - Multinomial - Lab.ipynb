{
 "cells": [
  {
   "cell_type": "markdown",
   "metadata": {},
   "source": [
    "### === Task ===\n",
    "\n",
    "1) Learn about TFidVectorizer and replace CountVectorizer with TFIDVectorizer (Explanation Provided in the Lecture)\n",
    "2) Put Multinomial Naive Classification into a class that can transform the data, fit the model and do prediction.\n",
    "    - In the class, allow users to choose whether to use CountVectorizer or TFIDVectorizer to transform the data."
   ]
  },
  {
   "cell_type": "code",
   "execution_count": 1,
   "metadata": {},
   "outputs": [],
   "source": [
    "from sklearn.datasets import fetch_20newsgroups\n",
    "import numpy as np\n",
    "from sklearn.feature_extraction.text import TfidfVectorizer\n",
    "from sklearn.feature_extraction.text import CountVectorizer\n",
    "from sklearn.preprocessing import label_binarize\n",
    "from sklearn.metrics import average_precision_score, classification_report\n",
    "\n",
    "data = fetch_20newsgroups()"
   ]
  },
  {
   "cell_type": "code",
   "execution_count": 2,
   "metadata": {},
   "outputs": [],
   "source": [
    "categories = ['talk.religion.misc', 'soc.religion.christian',\n",
    "              'sci.space', 'comp.graphics']\n",
    "train = fetch_20newsgroups(subset='train', categories=categories)\n",
    "test = fetch_20newsgroups(subset='test', categories=categories)\n",
    "\n",
    "train_data = train.data\n",
    "test_data = test.data"
   ]
  },
  {
   "cell_type": "code",
   "execution_count": 3,
   "metadata": {},
   "outputs": [],
   "source": [
    "def likelihood(X_class, laplace=1):\n",
    "    return (np.sum(X_class, axis=0) + laplace) / (np.sum(np.sum(X_class, axis=1)) + laplace)\n",
    "\n",
    "def prior(X_class, m):\n",
    "    return X_class.shape[0] / m\n"
   ]
  },
  {
   "cell_type": "markdown",
   "metadata": {},
   "source": [
    "# Put Multinomial Naive Classification into a class that can transform the data, fit the model and do prediction."
   ]
  },
  {
   "cell_type": "code",
   "execution_count": 4,
   "metadata": {},
   "outputs": [],
   "source": [
    "class MultinomialNB():\n",
    "    \n",
    "    def __init__(self):\n",
    "        self.priors = None\n",
    "        self.likelihoods = None\n",
    "    \n",
    "    def transform_data(self, train_data, test_data, method):\n",
    "        if method == 'CountVectorizer':\n",
    "            vectorizer = CountVectorizer()\n",
    "            X_train = vectorizer.fit_transform(train_data)\n",
    "            X_test = vectorizer.transform(test_data)\n",
    "            X_test = X_test.toarray()  \n",
    "            y_train = train.target\n",
    "            y_test = test.target\n",
    "            return X_train, y_train, X_test, y_test\n",
    "        \n",
    "        elif method == 'TFidVectorizer':\n",
    "            vectorizer = TfidfVectorizer()\n",
    "            X_train = vectorizer.fit_transform(train_data)\n",
    "            X_test = vectorizer.transform(test_data)\n",
    "            X_test = X_test.toarray()  \n",
    "            y_train = train.target\n",
    "            y_test = test.target\n",
    "            return X_train, y_train, X_test, y_test\n",
    "        \n",
    "    def fit(self, X_train, y_train):\n",
    "        m, n = X_train.shape\n",
    "        classes = np.unique(y_train)  #list of class\n",
    "        k = len(classes) #number of class\n",
    "\n",
    "        priors = np.zeros(k) #prior for each classes\n",
    "        likelihoods = np.zeros((k, n)) #likehood for each class of each feature\n",
    "\n",
    "        for idx, label in enumerate(classes):\n",
    "            X_train_c = X_train[y_train==label]\n",
    "            priors[idx] = prior(X_train_c, m)\n",
    "            likelihoods[idx, :] = likelihood(X_train_c)     \n",
    "        \n",
    "        self.priors = priors\n",
    "        self.likelihoods = likelihoods\n",
    "        \n",
    "    def predict(self, X_test):\n",
    "        yhat = np.log(self.priors) + X_test @ np.log(self.likelihoods.T) \n",
    "        return np.argmax(yhat, axis=1)"
   ]
  },
  {
   "cell_type": "code",
   "execution_count": 5,
   "metadata": {},
   "outputs": [],
   "source": [
    "# TFidVectorizer\n",
    "model = MultinomialNB()\n",
    "X_train, y_train, X_test, y_test = model.transform_data(train_data, test_data, method='TFidVectorizer')                                        \n",
    "model.fit(X_train, y_train)\n",
    "yhat = model.predict(X_test)"
   ]
  },
  {
   "cell_type": "code",
   "execution_count": 6,
   "metadata": {},
   "outputs": [
    {
     "name": "stdout",
     "output_type": "stream",
     "text": [
      "Accuracy:  0.630586592178771\n",
      "=========Average precision score=======\n",
      "Class 0 score:  0.8428735046171963\n",
      "Class 1 score:  0.6681589584508366\n",
      "Class 2 score:  0.42851478060694537\n",
      "Class 3 score:  0.3326836615720188\n",
      "=========Classification report=======\n",
      "Report:                precision    recall  f1-score   support\n",
      "\n",
      "           0       0.89      0.93      0.91       389\n",
      "           1       1.00      0.55      0.70       394\n",
      "           2       1.00      0.21      0.35       398\n",
      "           3       0.34      0.98      0.50       251\n",
      "\n",
      "    accuracy                           0.63      1432\n",
      "   macro avg       0.81      0.66      0.61      1432\n",
      "weighted avg       0.85      0.63      0.62      1432\n",
      "\n"
     ]
    }
   ],
   "source": [
    "n_classes = len(np.unique(y_test))\n",
    "\n",
    "print(\"Accuracy: \", np.sum(yhat == y_test)/len(y_test))\n",
    "\n",
    "print(\"=========Average precision score=======\")\n",
    "y_test_binarized = label_binarize(y_test, classes=[0, 1, 2, 3])\n",
    "yhat_binarized = label_binarize(yhat, classes=[0, 1, 2, 3])\n",
    "\n",
    "for i in range(n_classes):\n",
    "    class_score = average_precision_score(y_test_binarized[:, i], yhat_binarized[:, i])\n",
    "    print(f\"Class {i} score: \", class_score)\n",
    "    \n",
    "print(\"=========Classification report=======\")\n",
    "print(\"Report: \", classification_report(y_test, yhat))"
   ]
  },
  {
   "cell_type": "code",
   "execution_count": 7,
   "metadata": {},
   "outputs": [],
   "source": [
    "# CountVectorizer\n",
    "model = MultinomialNB()\n",
    "X_train, y_train, X_test, y_test = model.transform_data(train_data, test_data, method='CountVectorizer')                                        \n",
    "model.fit(X_train, y_train)\n",
    "yhat = model.predict(X_test)"
   ]
  },
  {
   "cell_type": "code",
   "execution_count": 8,
   "metadata": {},
   "outputs": [
    {
     "name": "stdout",
     "output_type": "stream",
     "text": [
      "Accuracy:  0.9287709497206704\n",
      "=========Average precision score=======\n",
      "Class 0 score:  0.9023786499946543\n",
      "Class 1 score:  0.9192582932480275\n",
      "Class 2 score:  0.8866233445509671\n",
      "Class 3 score:  0.7813002245920824\n",
      "=========Classification report=======\n",
      "Report:                precision    recall  f1-score   support\n",
      "\n",
      "           0       0.93      0.96      0.94       389\n",
      "           1       0.96      0.94      0.95       394\n",
      "           2       0.95      0.91      0.93       398\n",
      "           3       0.86      0.88      0.87       251\n",
      "\n",
      "    accuracy                           0.93      1432\n",
      "   macro avg       0.92      0.92      0.92      1432\n",
      "weighted avg       0.93      0.93      0.93      1432\n",
      "\n"
     ]
    }
   ],
   "source": [
    "n_classes = len(np.unique(y_test))\n",
    "\n",
    "print(\"Accuracy: \", np.sum(yhat == y_test)/len(y_test))\n",
    "\n",
    "print(\"=========Average precision score=======\")\n",
    "y_test_binarized = label_binarize(y_test, classes=[0, 1, 2, 3])\n",
    "yhat_binarized = label_binarize(yhat, classes=[0, 1, 2, 3])\n",
    "\n",
    "for i in range(n_classes):\n",
    "    class_score = average_precision_score(y_test_binarized[:, i], yhat_binarized[:, i])\n",
    "    print(f\"Class {i} score: \", class_score)\n",
    "    \n",
    "print(\"=========Classification report=======\")\n",
    "print(\"Report: \", classification_report(y_test, yhat))"
   ]
  }
 ],
 "metadata": {
  "kernelspec": {
   "display_name": "Python 3",
   "language": "python",
   "name": "python3"
  },
  "language_info": {
   "codemirror_mode": {
    "name": "ipython",
    "version": 3
   },
   "file_extension": ".py",
   "mimetype": "text/x-python",
   "name": "python",
   "nbconvert_exporter": "python",
   "pygments_lexer": "ipython3",
   "version": "3.8.5"
  }
 },
 "nbformat": 4,
 "nbformat_minor": 4
}
