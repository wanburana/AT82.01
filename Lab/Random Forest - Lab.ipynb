{
 "cells": [
  {
   "cell_type": "markdown",
   "metadata": {},
   "source": [
    "Modify the Bagging scratch code in our lecture such that:\n",
    "- Calculate for oob evaluation for each bootstrapped dataset, and also the average score\n",
    "- Change the code to \"without replacement\"\n",
    "- Put everything into a class <code>Bagging</code>.  It should have at least two methods, <code>fit(X_train, y_train)</code>, and <code>predict(X_test)</code>\n",
    "- Modify the code from above to randomize features.  Set the number of features to be used in each tree to be <code>sqrt(n)</code>, and then select a subset of features for each tree.  This can be easily done by setting our DecisionTreeClassifier <code>max_features</code> to 'sqrt'"
   ]
  },
  {
   "cell_type": "code",
   "execution_count": 1,
   "metadata": {},
   "outputs": [],
   "source": [
    "import numpy as np\n",
    "import matplotlib.pyplot as plt\n",
    "\n",
    "from sklearn.datasets import load_iris\n",
    "from sklearn.model_selection import train_test_split\n",
    "from sklearn.metrics import classification_report\n",
    "\n",
    "iris = load_iris()\n",
    "X = iris.data\n",
    "y = iris.target\n",
    "\n",
    "X_train, X_test, y_train, y_test = train_test_split(X, y, \n",
    "                test_size=0.3, shuffle=True, random_state=42)"
   ]
  },
  {
   "cell_type": "code",
   "execution_count": 2,
   "metadata": {},
   "outputs": [],
   "source": [
    "import random, math\n",
    "from sklearn.tree import DecisionTreeClassifier\n",
    "from scipy import stats\n",
    "from sklearn.metrics import classification_report, accuracy_score\n",
    "import numpy as np\n",
    "\n",
    "class RandomForest:\n",
    "\n",
    "    def __init__(self, n_estimators, bootstrap_ratio, with_no_replacement=True):\n",
    "        self.n_estimators = n_estimators\n",
    "        self.bootstrap_ratio = bootstrap_ratio\n",
    "        self.with_no_replacement = with_no_replacement\n",
    "        self.tree_params = {'max_depth': 2, 'max_features': 'sqrt'}\n",
    "        self.models = [DecisionTreeClassifier(**self.tree_params) for _ in range(n_estimators)]\n",
    "\n",
    "\n",
    "    def fit(self, X, y):\n",
    "        m, n = X.shape\n",
    "        sample_size = int(self.bootstrap_ratio * len(X))\n",
    "\n",
    "        X_samples = np.zeros((self.n_estimators, sample_size, n))\n",
    "        y_samples = np.zeros((self.n_estimators, sample_size))\n",
    "\n",
    "        X_samples_oob = []\n",
    "        y_samples_oob = []\n",
    "\n",
    "        for i in range(self.n_estimators):\n",
    "            oob_index = []\n",
    "            indices = []\n",
    "            for j in range(sample_size):\n",
    "                index = random.randrange(m)\n",
    "                if self.with_no_replacement:\n",
    "                    while index in indices:\n",
    "                        index = random.randrange(m)\n",
    "                indices.append(index)\n",
    "                oob_index.append(index)\n",
    "\n",
    "                X_samples[i,j,:] = X[index]\n",
    "                y_samples[i,j] = y[index]\n",
    "\n",
    "            mask = np.zeros((m), dtype=bool)\n",
    "            mask[oob_index] = True\n",
    "            X_samples_oob.append(X[~mask])\n",
    "            y_samples_oob.append(y[~mask])     \n",
    "\n",
    "        oob_score = 0\n",
    "        print(\"Out of bag score for each tree\")\n",
    "        for i, model in enumerate(self.models):\n",
    "            X_train = X_samples[i]\n",
    "            y_train = y_samples[i]\n",
    "            model.fit(X_train, y_train)\n",
    "\n",
    "            X_test = np.array(X_samples_oob[i])\n",
    "            y_test = np.array(y_samples_oob[i])\n",
    "\n",
    "            y_hat = model.predict(X_test)\n",
    "\n",
    "            oob_score += accuracy_score(y_test, y_hat)\n",
    "            print(f\"Tree {i}\", accuracy_score(y_test, y_hat))\n",
    "        self.avg_oob_score = oob_score / len(self.models)\n",
    "        print(f'Average out of bag score: {self.avg_oob_score}')\n",
    "    def predict(self, X): #<---X_test\n",
    "        #make prediction and return the probabilities\n",
    "        predictions = np.zeros((self.n_estimators, X.shape[0]))\n",
    "        for i, model in enumerate(self.models):\n",
    "            yhat = model.predict(X)\n",
    "            predictions[i, :] = yhat\n",
    "        return stats.mode(predictions)[0][0]"
   ]
  },
  {
   "cell_type": "code",
   "execution_count": 3,
   "metadata": {},
   "outputs": [
    {
     "name": "stdout",
     "output_type": "stream",
     "text": [
      "Out of bag score for each tree\n",
      "Tree 0 0.8095238095238095\n",
      "Tree 1 0.9047619047619048\n",
      "Tree 2 0.9047619047619048\n",
      "Tree 3 0.6190476190476191\n",
      "Tree 4 1.0\n",
      "Average out of bag score: 0.8476190476190476\n",
      "              precision    recall  f1-score   support\n",
      "\n",
      "           0       1.00      1.00      1.00        19\n",
      "           1       1.00      0.92      0.96        13\n",
      "           2       0.93      1.00      0.96        13\n",
      "\n",
      "    accuracy                           0.98        45\n",
      "   macro avg       0.98      0.97      0.97        45\n",
      "weighted avg       0.98      0.98      0.98        45\n",
      "\n"
     ]
    }
   ],
   "source": [
    "model = RandomForest(n_estimators=5, bootstrap_ratio=0.8)\n",
    "model.fit(X_train, y_train)\n",
    "y_hat = model.predict(X_test)\n",
    "print(classification_report(y_test, y_hat))"
   ]
  },
  {
   "cell_type": "code",
   "execution_count": null,
   "metadata": {},
   "outputs": [],
   "source": []
  }
 ],
 "metadata": {
  "kernelspec": {
   "display_name": "Python 3",
   "language": "python",
   "name": "python3"
  },
  "language_info": {
   "codemirror_mode": {
    "name": "ipython",
    "version": 3
   },
   "file_extension": ".py",
   "mimetype": "text/x-python",
   "name": "python",
   "nbconvert_exporter": "python",
   "pygments_lexer": "ipython3",
   "version": "3.8.5"
  }
 },
 "nbformat": 4,
 "nbformat_minor": 4
}
