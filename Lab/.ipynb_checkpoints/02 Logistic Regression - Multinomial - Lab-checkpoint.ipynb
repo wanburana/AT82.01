{
 "cells": [
  {
   "cell_type": "markdown",
   "id": "rising-budapest",
   "metadata": {},
   "source": [
    "### === Task ===\n",
    "\n",
    "1. With the iris data given in class, implement train_test_split from scratch.\n",
    "\n",
    "2. Put everything into a class called LogisticRegression, this class should allow you choose any of the training methods you'd like including \"batch\", \"minibatch\" and \"sto\". However, if the input method is not one of the three, it should \"raise ValueError\".\n",
    "\n",
    "3. Calculate time taken to fit your models using different training methods.\n",
    "\n",
    "4. Perform a classification on the dataset using all 3 methods and also show what happens if your defined training method is not either \"batch\", \"minibatch\" or \"sto\". Make sure to plot the training losses.\n",
    "\n",
    "5. Simply, use classification_report from sklearn.metrics to evaluate your models.\n",
    "\n",
    "6. Discuss your results ie. training losses of the three methods and time taken to fit models."
   ]
  },
  {
   "cell_type": "code",
   "execution_count": 2,
   "id": "curious-garbage",
   "metadata": {},
   "outputs": [],
   "source": [
    "from sklearn import datasets\n",
    "from sklearn.preprocessing import StandardScaler\n",
    "from sklearn.model_selection import train_test_split\n",
    "import numpy as np\n",
    "import matplotlib.pyplot as plt\n",
    "\n",
    "#Step 1: Prepare data\n",
    "\n",
    "# import some data to play with\n",
    "iris = datasets.load_iris()\n",
    "X = iris.data[:, 2:]  # we only take the first two features.\n",
    "y = iris.target  #now our y is three classes thus require multinomial\n",
    "\n",
    "# feature scaling helps improve reach convergence faster\n",
    "scaler = StandardScaler()\n",
    "X = scaler.fit_transform(X)\n",
    "\n",
    "# data split\n",
    "X_train, X_test, y_train, y_test = train_test_split(X, y, test_size=0.3)\n",
    "\n",
    "# add intercept to our X\n",
    "intercept = np.ones((X_train.shape[0], 1))\n",
    "X_train   = np.concatenate((intercept, X_train), axis=1)  #add intercept\n",
    "intercept = np.ones((X_test.shape[0], 1))\n",
    "X_test    = np.concatenate((intercept, X_test), axis=1)  #add intercept\n",
    "\n",
    "# make sure our y is in the shape of (m, k)\n",
    "# we will convert our output vector in \n",
    "# matrix where no. of columns is equal to the no. of classes. \n",
    "# The values in the matrix will be 0 or 1. For instance the rows \n",
    "# where we have output 2 the column 2 will contain 1 and the rest are all 0.\n",
    "# in simple words, y will be of shape (m, k)\n",
    "k = len(set(y))  # no. of class  (can also use np.unique)\n",
    "m = X_train.shape[0]  # no.of samples\n",
    "n = X_train.shape[1]  # no. of features\n",
    "y_train_encoded = np.zeros((m, k))\n",
    "for each_class in range(k):\n",
    "    cond = y_train==each_class\n",
    "    y_train_encoded[np.where(cond), each_class] = 1"
   ]
  },
  {
   "cell_type": "code",
   "execution_count": 3,
   "id": "certified-healthcare",
   "metadata": {},
   "outputs": [],
   "source": [
    "def one_hot(y):\n",
    "    y = np.array(y)\n",
    "\n",
    "    m = y.shape[0]\n",
    "\n",
    "    y_one_hotted = np.zeros((m, k))\n",
    "\n",
    "    for i, label in enumerate(y):\n",
    "        y_one_hotted[i, label ] = 1\n",
    "\n",
    "    return y_one_hotted"
   ]
  },
  {
   "cell_type": "markdown",
   "id": "vietnamese-toyota",
   "metadata": {},
   "source": [
    "# With the iris data given in class, implement train_test_split from scratch.\n"
   ]
  },
  {
   "cell_type": "code",
   "execution_count": 4,
   "id": "psychological-reason",
   "metadata": {},
   "outputs": [
    {
     "name": "stdout",
     "output_type": "stream",
     "text": [
      "(128, 2) (22, 2)\n"
     ]
    }
   ],
   "source": [
    "\n",
    "def train_test_split(X, y, test_size=0.15):\n",
    "    assert X.shape[0] == y.shape[0]\n",
    "\n",
    "    m = X.shape[0]\n",
    "    indices = np.arange(m)\n",
    "    np.random.shuffle(indices)\n",
    "\n",
    "    split_index = round(m * test_size)\n",
    "\n",
    "    train_indices, test_indices = indices[split_index:], indices[:split_index]\n",
    "\n",
    "    X_train, X_test = X[train_indices], X[test_indices]\n",
    "    y_train, y_test = y[train_indices], y[test_indices]\n",
    "\n",
    "    \n",
    "    return X_train, X_test, y_train, y_test\n",
    "\n",
    "X_train, X_test, y_train, y_test = train_test_split(X, y)\n",
    "print(X_train.shape, X_test.shape)"
   ]
  },
  {
   "cell_type": "code",
   "execution_count": 5,
   "id": "assumed-mixer",
   "metadata": {},
   "outputs": [],
   "source": [
    "# Step 2: Fit your data\n",
    "\n",
    "def logistic_regression_GD(X, y, k, n, max_iter=1000):\n",
    "    '''\n",
    "    Inputs: \n",
    "        X shape: (m, n)\n",
    "        w shape: (n, k)\n",
    "    '''\n",
    "    w = np.random.rand(n, k)\n",
    "    l_rate = 0.01\n",
    "    for i in range(max_iter):\n",
    "        cost, grad =  gradient(X, y, w)\n",
    "        if i % 500 == 0:\n",
    "            print(f\"Cost at iteration {i}\", cost)\n",
    "        w = w - l_rate * grad\n",
    "    return w, i\n",
    "\n",
    "# for those who tend to feel overwhelmed with lots of code\n",
    "# I recommend you to write each part of the code separately as function\n",
    "# it helps!\n",
    "def gradient(X, y, w):\n",
    "    m = X.shape[0]\n",
    "    h = h_theta(X, w)\n",
    "    cost = - np.sum(y*np.log(h)) / m\n",
    "    error = h - y\n",
    "    grad = softmax_grad(X, error)\n",
    "    return cost, grad\n",
    "\n",
    "def softmax(x):\n",
    "    return np.exp(x) / np.sum(np.exp(x), axis=1, keepdims=True)\n",
    "\n",
    "def softmax_grad(X, error):\n",
    "    return  X.T @ error\n",
    "        \n",
    "def h_theta(X, w):\n",
    "    '''\n",
    "    Input:\n",
    "        X shape: (m, n)\n",
    "        w shape: (n, k)\n",
    "    Returns:\n",
    "        yhat shape: (m, k)\n",
    "    '''\n",
    "    return softmax(X @ w)\n",
    "\n"
   ]
  },
  {
   "cell_type": "markdown",
   "id": "metallic-scottish",
   "metadata": {},
   "source": [
    "# Put everything into a class called LogisticRegression, this class should allow you choose any of the training methods you'd like including \"batch\", \"minibatch\" and \"sto\". However, if the input method is not one of the three, it should \"raise ValueError\"."
   ]
  },
  {
   "cell_type": "code",
   "execution_count": 6,
   "id": "basic-guide",
   "metadata": {},
   "outputs": [],
   "source": [
    "import math\n",
    "import time\n",
    "\n",
    "class LogisticRegression:\n",
    "    def __init__(self, method='batch', batch_size=None, learning_rate=0.0001, max_iter=5000, verbose=True):\n",
    "        self.method = method\n",
    "        self.batch_size = batch_size\n",
    "        self.learning_rate = learning_rate\n",
    "        self.max_iter = max_iter\n",
    "        self.verbose = verbose\n",
    "        \n",
    "        valid_methods = [\"batch\", \"minibatch\", \"sto\"]\n",
    "        if method not in valid_methods:\n",
    "            raise ValueError(f'method must be one of {valid_methods}')\n",
    "            \n",
    "    def fit(self, X, y):\n",
    "        self.losses = []\n",
    "        \n",
    "        m = X.shape[0]\n",
    "        n = X.shape[1]\n",
    "        \n",
    "        k = len(np.unique(y))\n",
    "        \n",
    "        y = one_hot(y)\n",
    "        \n",
    "        self.w = np.random.rand(n, k)\n",
    "        old_loss = np.inf\n",
    "        \n",
    "        if self.method == 'batch' and self.batch_size == None:\n",
    "            self.batch_size = m # using whole training samples\n",
    "        elif self.method == 'sto' and self.batch_size == None:\n",
    "            self.batch_size = 1 # using 1 training sample\n",
    "            \n",
    "        step_size = math.ceil(m / self.batch_size)\n",
    "        \n",
    "        start = time.time()\n",
    "        for i in range(self.max_iter):\n",
    "            for step in range(step_size):\n",
    "                X_batch = X[step * self.batch_size: step * self.batch_size + self.batch_size]\n",
    "                y_batch = y[step * self.batch_size: step * self.batch_size + self.batch_size]\n",
    "                assert len(X_batch == self.batch_size)\n",
    "                cost, grad =  gradient(X_batch, y_batch, self.w )\n",
    "                self.losses.append(cost)\n",
    "\n",
    "                self.w = self.w - self.learning_rate * grad\n",
    "                \n",
    "            if i %1000 == 0 and self.verbose:\n",
    "                print(f'epoch {i}: cost {cost}')\n",
    "\n",
    "        end = time.time()\n",
    "        print('Time taken', end - start, 'second(s)\\n')\n",
    "    \n",
    "    def predict(self, X):\n",
    "        y_predicted = h_theta(X, self.w)\n",
    "        return np.argmax(y_predicted, axis=1)\n",
    "    \n",
    "    def plot_loss(self):\n",
    "        plt.figure()\n",
    "        display(plt.plot(self.losses))"
   ]
  },
  {
   "cell_type": "markdown",
   "id": "southern-merchandise",
   "metadata": {},
   "source": [
    "# Calculate time taken to fit your models using different training methods.\n",
    "# Perform a classification on the dataset using all 3 methods and also show what happens if your defined training method is not either \"batch\", \"minibatch\" or \"sto\". Make sure to plot the training losses.\n"
   ]
  },
  {
   "cell_type": "code",
   "execution_count": 242,
   "id": "lesser-buffer",
   "metadata": {},
   "outputs": [
    {
     "name": "stdout",
     "output_type": "stream",
     "text": [
      "Batch\n",
      "epoch 0: cost 1.1815575911247542\n",
      "epoch 1000: cost 0.08521636259514787\n",
      "epoch 2000: cost 0.08200398314794316\n",
      "epoch 3000: cost 0.08121636492562338\n",
      "epoch 4000: cost 0.08090983233808015\n",
      "Time taken 0.4349997043609619 second(s)\n",
      "\n"
     ]
    },
    {
     "data": {
      "text/plain": [
       "[<matplotlib.lines.Line2D at 0x26439f45370>]"
      ]
     },
     "metadata": {},
     "output_type": "display_data"
    },
    {
     "name": "stdout",
     "output_type": "stream",
     "text": [
      "Mini-Batch\n",
      "epoch 0: cost 0.6540296818726389\n",
      "epoch 1000: cost 0.009702322672441758\n",
      "epoch 2000: cost 0.005669323820414332\n",
      "epoch 3000: cost 0.004238350430871388\n",
      "epoch 4000: cost 0.0035290264816117867\n",
      "Time taken 1.1540207862854004 second(s)\n",
      "\n"
     ]
    },
    {
     "data": {
      "text/plain": [
       "[<matplotlib.lines.Line2D at 0x2643b2e8370>]"
      ]
     },
     "metadata": {},
     "output_type": "display_data"
    },
    {
     "name": "stdout",
     "output_type": "stream",
     "text": [
      "Stochastic\n",
      "epoch 0: cost 0.623578037381782\n",
      "epoch 1000: cost 0.03625959558051261\n",
      "epoch 2000: cost 0.02265701227899437\n",
      "epoch 3000: cost 0.018496656673317416\n",
      "epoch 4000: cost 0.016716010033674532\n",
      "Time taken 25.094998359680176 second(s)\n",
      "\n"
     ]
    },
    {
     "data": {
      "text/plain": [
       "[<matplotlib.lines.Line2D at 0x2643b6403a0>]"
      ]
     },
     "metadata": {},
     "output_type": "display_data"
    },
    {
     "data": {
      "image/png": "[encoded data removed]",
      "text/plain": [
       "<Figure size 432x288 with 1 Axes>"
      ]
     },
     "metadata": {
      "needs_background": "light"
     },
     "output_type": "display_data"
    },
    {
     "data": {
      "image/png": "[encoded data removed]",
      "text/plain": [
       "<Figure size 432x288 with 1 Axes>"
      ]
     },
     "metadata": {
      "needs_background": "light"
     },
     "output_type": "display_data"
    },
    {
     "data": {
      "image/png": "[encoded data removed]",
      "text/plain": [
       "<Figure size 432x288 with 1 Axes>"
      ]
     },
     "metadata": {
      "needs_background": "light"
     },
     "output_type": "display_data"
    }
   ],
   "source": [
    "\n",
    "print('Batch')\n",
    "cls = LogisticRegression(learning_rate=0.01, max_iter=5000)\n",
    "cls.fit(X_train, y_train)\n",
    "cls.plot_loss()\n",
    "\n",
    "print('Mini-Batch')\n",
    "cls = LogisticRegression(learning_rate=0.01, max_iter=5000, method='minibatch', batch_size=32)\n",
    "cls.fit(X_train, y_train)\n",
    "cls.plot_loss()\n",
    "\n",
    "print('Stochastic')\n",
    "cls = LogisticRegression(learning_rate=0.01, max_iter=5000, method='sto')\n",
    "cls.fit(X_train, y_train)\n",
    "cls.plot_loss()"
   ]
  },
  {
   "cell_type": "code",
   "execution_count": 243,
   "id": "automated-controversy",
   "metadata": {},
   "outputs": [
    {
     "name": "stdout",
     "output_type": "stream",
     "text": [
      "input invalid method\n"
     ]
    },
    {
     "ename": "ValueError",
     "evalue": "method must be one of ['batch', 'minibatch', 'sto']",
     "output_type": "error",
     "traceback": [
      "\u001b[1;31m---------------------------------------------------------------------------\u001b[0m",
      "\u001b[1;31mValueError\u001b[0m                                Traceback (most recent call last)",
      "\u001b[1;32m<ipython-input-243-504898f4bf31>\u001b[0m in \u001b[0;36m<module>\u001b[1;34m\u001b[0m\n\u001b[0;32m      1\u001b[0m \u001b[0mprint\u001b[0m\u001b[1;33m(\u001b[0m\u001b[1;34m'input invalid method'\u001b[0m\u001b[1;33m)\u001b[0m\u001b[1;33m\u001b[0m\u001b[1;33m\u001b[0m\u001b[0m\n\u001b[1;32m----> 2\u001b[1;33m \u001b[0mcls\u001b[0m \u001b[1;33m=\u001b[0m \u001b[0mLogisticRegression\u001b[0m\u001b[1;33m(\u001b[0m\u001b[0mlearning_rate\u001b[0m\u001b[1;33m=\u001b[0m\u001b[1;36m0.01\u001b[0m\u001b[1;33m,\u001b[0m \u001b[0mmax_iter\u001b[0m\u001b[1;33m=\u001b[0m\u001b[1;36m5000\u001b[0m\u001b[1;33m,\u001b[0m \u001b[0mmethod\u001b[0m\u001b[1;33m=\u001b[0m\u001b[1;34m'hello?'\u001b[0m\u001b[1;33m)\u001b[0m\u001b[1;33m\u001b[0m\u001b[1;33m\u001b[0m\u001b[0m\n\u001b[0m\u001b[0;32m      3\u001b[0m \u001b[0mcls\u001b[0m\u001b[1;33m.\u001b[0m\u001b[0mfit\u001b[0m\u001b[1;33m(\u001b[0m\u001b[0mX_train\u001b[0m\u001b[1;33m,\u001b[0m \u001b[0my_train\u001b[0m\u001b[1;33m)\u001b[0m\u001b[1;33m\u001b[0m\u001b[1;33m\u001b[0m\u001b[0m\n\u001b[0;32m      4\u001b[0m \u001b[0mcls\u001b[0m\u001b[1;33m.\u001b[0m\u001b[0mplot_loss\u001b[0m\u001b[1;33m(\u001b[0m\u001b[1;33m)\u001b[0m\u001b[1;33m\u001b[0m\u001b[1;33m\u001b[0m\u001b[0m\n",
      "\u001b[1;32m<ipython-input-238-454a66d76ff2>\u001b[0m in \u001b[0;36m__init__\u001b[1;34m(self, method, batch_size, learning_rate, max_iter, verbose)\u001b[0m\n\u001b[0;32m     13\u001b[0m         \u001b[0mvalid_methods\u001b[0m \u001b[1;33m=\u001b[0m \u001b[1;33m[\u001b[0m\u001b[1;34m\"batch\"\u001b[0m\u001b[1;33m,\u001b[0m \u001b[1;34m\"minibatch\"\u001b[0m\u001b[1;33m,\u001b[0m \u001b[1;34m\"sto\"\u001b[0m\u001b[1;33m]\u001b[0m\u001b[1;33m\u001b[0m\u001b[1;33m\u001b[0m\u001b[0m\n\u001b[0;32m     14\u001b[0m         \u001b[1;32mif\u001b[0m \u001b[0mmethod\u001b[0m \u001b[1;32mnot\u001b[0m \u001b[1;32min\u001b[0m \u001b[0mvalid_methods\u001b[0m\u001b[1;33m:\u001b[0m\u001b[1;33m\u001b[0m\u001b[1;33m\u001b[0m\u001b[0m\n\u001b[1;32m---> 15\u001b[1;33m             \u001b[1;32mraise\u001b[0m \u001b[0mValueError\u001b[0m\u001b[1;33m(\u001b[0m\u001b[1;34mf'method must be one of {valid_methods}'\u001b[0m\u001b[1;33m)\u001b[0m\u001b[1;33m\u001b[0m\u001b[1;33m\u001b[0m\u001b[0m\n\u001b[0m\u001b[0;32m     16\u001b[0m \u001b[1;33m\u001b[0m\u001b[0m\n\u001b[0;32m     17\u001b[0m     \u001b[1;32mdef\u001b[0m \u001b[0mfit\u001b[0m\u001b[1;33m(\u001b[0m\u001b[0mself\u001b[0m\u001b[1;33m,\u001b[0m \u001b[0mX\u001b[0m\u001b[1;33m,\u001b[0m \u001b[0my\u001b[0m\u001b[1;33m)\u001b[0m\u001b[1;33m:\u001b[0m\u001b[1;33m\u001b[0m\u001b[1;33m\u001b[0m\u001b[0m\n",
      "\u001b[1;31mValueError\u001b[0m: method must be one of ['batch', 'minibatch', 'sto']"
     ]
    }
   ],
   "source": [
    "print('input invalid method')\n",
    "cls = LogisticRegression(learning_rate=0.01, max_iter=5000, method='hello?')\n",
    "cls.fit(X_train, y_train)\n",
    "cls.plot_loss()"
   ]
  },
  {
   "cell_type": "markdown",
   "id": "north-lotus",
   "metadata": {},
   "source": [
    "# Simply, use classification_report from sklearn.metrics to evaluate your models."
   ]
  },
  {
   "cell_type": "code",
   "execution_count": 228,
   "id": "constant-guarantee",
   "metadata": {},
   "outputs": [
    {
     "name": "stdout",
     "output_type": "stream",
     "text": [
      "Batch\n",
      "Time taken 0.4239985942840576 second(s)\n",
      "\n",
      "Report:                precision    recall  f1-score   support\n",
      "\n",
      "           0       1.00      1.00      1.00        14\n",
      "           1       0.94      1.00      0.97        16\n",
      "           2       1.00      0.93      0.97        15\n",
      "\n",
      "    accuracy                           0.98        45\n",
      "   macro avg       0.98      0.98      0.98        45\n",
      "weighted avg       0.98      0.98      0.98        45\n",
      "\n",
      "Mini-Batch\n",
      "Time taken 1.1514816284179688 second(s)\n",
      "\n",
      "Report:                precision    recall  f1-score   support\n",
      "\n",
      "           0       1.00      1.00      1.00        14\n",
      "           1       0.94      1.00      0.97        16\n",
      "           2       1.00      0.93      0.97        15\n",
      "\n",
      "    accuracy                           0.98        45\n",
      "   macro avg       0.98      0.98      0.98        45\n",
      "weighted avg       0.98      0.98      0.98        45\n",
      "\n",
      "Stochastic\n",
      "Time taken 24.322064876556396 second(s)\n",
      "\n",
      "Report:                precision    recall  f1-score   support\n",
      "\n",
      "           0       1.00      1.00      1.00        14\n",
      "           1       0.94      1.00      0.97        16\n",
      "           2       1.00      0.93      0.97        15\n",
      "\n",
      "    accuracy                           0.98        45\n",
      "   macro avg       0.98      0.98      0.98        45\n",
      "weighted avg       0.98      0.98      0.98        45\n",
      "\n"
     ]
    }
   ],
   "source": [
    "X_train, X_test, y_train, y_test = train_test_split(X, y, test_size=0.3)\n",
    "intercept = np.ones((X_train.shape[0], 1))\n",
    "X_train   = np.concatenate((intercept, X_train), axis=1)  #add intercept\n",
    "intercept = np.ones((X_test.shape[0], 1))\n",
    "X_test    = np.concatenate((intercept, X_test), axis=1)  #add intercept\n",
    "\n",
    "\n",
    "print('Batch')\n",
    "cls = LogisticRegression(learning_rate=0.001, max_iter=5000, method='batch', verbose=False)\n",
    "cls.fit(X_train, y_train)\n",
    "yhat = cls.predict(X_test)\n",
    "print(\"Report: \", classification_report(y_test, yhat))\n",
    "\n",
    "print('Mini-Batch')\n",
    "cls = LogisticRegression(learning_rate=0.01, max_iter=5000, method='minibatch', batch_size=32, verbose=False)\n",
    "cls.fit(X_train, y_train)\n",
    "yhat = cls.predict(X_test)\n",
    "print(\"Report: \", classification_report(y_test, yhat))\n",
    "\n",
    "print('Stochastic')\n",
    "cls = LogisticRegression(learning_rate=0.01, max_iter=5000, method='sto', verbose=False)\n",
    "cls.fit(X_train, y_train)\n",
    "yhat = cls.predict(X_test)\n",
    "print(\"Report: \", classification_report(y_test, yhat))"
   ]
  },
  {
   "cell_type": "markdown",
   "id": "fifty-reader",
   "metadata": {},
   "source": [
    "# Discuss your results ie. training losses of the three methods and time taken to fit models."
   ]
  },
  {
   "cell_type": "markdown",
   "id": "elementary-anchor",
   "metadata": {},
   "source": [
    "According to the result from task 5. The final accuracy is the same regarding any method, but the losses fluctuate a lot in `mini-batch` methood and fluctuate even more in the `stochastic` method.\n",
    "\n",
    "For the training time, `mini-batch` and `stochastic` take significant longer time than normal `batch` method, especially `stochastic`, one reason that could explaining this is we didn't exploit numpy's efficient vectorization operation much but instead use explicit for loop for every sample."
   ]
  },
  {
   "cell_type": "code",
   "execution_count": null,
   "id": "ranging-visit",
   "metadata": {},
   "outputs": [],
   "source": []
  }
 ],
 "metadata": {
  "kernelspec": {
   "display_name": "Python 3",
   "language": "python",
   "name": "python3"
  },
  "language_info": {
   "codemirror_mode": {
    "name": "ipython",
    "version": 3
   },
   "file_extension": ".py",
   "mimetype": "text/x-python",
   "name": "python",
   "nbconvert_exporter": "python",
   "pygments_lexer": "ipython3",
   "version": "3.8.5"
  }
 },
 "nbformat": 4,
 "nbformat_minor": 5
}
